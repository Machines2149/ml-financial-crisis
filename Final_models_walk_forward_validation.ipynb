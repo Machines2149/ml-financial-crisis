{
 "cells": [
  {
   "cell_type": "code",
   "execution_count": 1,
   "id": "008f6237-4c1c-419f-9dcd-a7a20ca240a3",
   "metadata": {
    "id": "008f6237-4c1c-419f-9dcd-a7a20ca240a3"
   },
   "outputs": [
    {
     "name": "stderr",
     "output_type": "stream",
     "text": [
      "/Users/Anastasis/opt/anaconda3/lib/python3.7/site-packages/lightgbm/__init__.py:48: UserWarning: Starting from version 2.2.1, the library file in distribution wheels for macOS is built by the Apple Clang (Xcode_8.3.3) compiler.\n",
      "This means that in case of installing LightGBM from PyPI via the ``pip install lightgbm`` command, you don't need to install the gcc compiler anymore.\n",
      "Instead of that, you need to install the OpenMP library, which is required for running LightGBM on the system with the Apple Clang compiler.\n",
      "You can install the OpenMP library by the following command: ``brew install libomp``.\n",
      "  \"You can install the OpenMP library by the following command: ``brew install libomp``.\", UserWarning)\n",
      "Using TensorFlow backend.\n"
     ]
    },
    {
     "ename": "ModuleNotFoundError",
     "evalue": "No module named 'scikit_posthocs'",
     "output_type": "error",
     "traceback": [
      "\u001b[0;31m---------------------------------------------------------------------------\u001b[0m",
      "\u001b[0;31mModuleNotFoundError\u001b[0m                       Traceback (most recent call last)",
      "\u001b[0;32m/var/folders/ww/23s0nrl12vz4qyd7mvrvgcf00000gn/T/ipykernel_87204/4060307982.py\u001b[0m in \u001b[0;36m<module>\u001b[0;34m\u001b[0m\n\u001b[1;32m     23\u001b[0m \u001b[0;32mfrom\u001b[0m \u001b[0mscipy\u001b[0m \u001b[0;32mimport\u001b[0m \u001b[0mstats\u001b[0m\u001b[0;34m\u001b[0m\u001b[0;34m\u001b[0m\u001b[0m\n\u001b[1;32m     24\u001b[0m \u001b[0;32mfrom\u001b[0m \u001b[0mitertools\u001b[0m \u001b[0;32mimport\u001b[0m \u001b[0mchain\u001b[0m\u001b[0;34m\u001b[0m\u001b[0;34m\u001b[0m\u001b[0m\n\u001b[0;32m---> 25\u001b[0;31m \u001b[0;32mimport\u001b[0m \u001b[0mscikit_posthocs\u001b[0m \u001b[0;32mas\u001b[0m \u001b[0msp\u001b[0m\u001b[0;34m\u001b[0m\u001b[0;34m\u001b[0m\u001b[0m\n\u001b[0m\u001b[1;32m     26\u001b[0m \u001b[0;34m\u001b[0m\u001b[0m\n\u001b[1;32m     27\u001b[0m \u001b[0;32mimport\u001b[0m \u001b[0mwarnings\u001b[0m\u001b[0;34m\u001b[0m\u001b[0;34m\u001b[0m\u001b[0m\n",
      "\u001b[0;31mModuleNotFoundError\u001b[0m: No module named 'scikit_posthocs'"
     ]
    }
   ],
   "source": [
    "# Importing python libraries\n",
    "\n",
    "import pandas as pd\n",
    "import numpy as np\n",
    "from matplotlib import pyplot as plt\n",
    "%matplotlib inline\n",
    "from sklearn.metrics import accuracy_score, classification_report\n",
    "from sklearn.ensemble import AdaBoostClassifier\n",
    "from sklearn.ensemble import RandomForestClassifier\n",
    "from sklearn.linear_model import LogisticRegression\n",
    "from sklearn.tree import DecisionTreeClassifier\n",
    "from sklearn.svm import SVC\n",
    "from lightgbm import LGBMClassifier\n",
    "from sklearn.preprocessing import StandardScaler\n",
    "import tensorflow as tf\n",
    "from tensorflow.keras.layers import Input, SimpleRNN, Dense, Flatten, LSTM, Dropout, GlobalMaxPool1D\n",
    "from tensorflow.keras.models import Model\n",
    "from tensorflow.keras.optimizers import Adam\n",
    "from tensorflow.keras.metrics import Recall, Precision, BinaryAccuracy\n",
    "from tqdm import tqdm\n",
    "from collections import defaultdict\n",
    "from keras import backend as K\n",
    "from scipy import stats\n",
    "from itertools import chain\n",
    "import scikit_posthocs as sp\n",
    "\n",
    "import warnings\n",
    "warnings.filterwarnings(\"ignore\")"
   ]
  },
  {
   "cell_type": "code",
   "execution_count": null,
   "id": "9c2c62b1-f065-47f4-8928-a83197bdfe39",
   "metadata": {
    "id": "9c2c62b1-f065-47f4-8928-a83197bdfe39"
   },
   "outputs": [],
   "source": [
    "# Read the CSV file with the data\n",
    "\n",
    "df = pd.read_csv(\"final_13_5_2022.csv\", index_col=\"Date\", low_memory=False)"
   ]
  },
  {
   "cell_type": "code",
   "execution_count": null,
   "id": "bab4aae4-9958-45d5-b8eb-93b9b9f55e77",
   "metadata": {
    "id": "bab4aae4-9958-45d5-b8eb-93b9b9f55e77",
    "outputId": "2e747e99-5c17-4387-e5ad-3c6b2c7679e1"
   },
   "outputs": [
    {
     "data": {
      "text/html": [
       "<div>\n",
       "<style scoped>\n",
       "    .dataframe tbody tr th:only-of-type {\n",
       "        vertical-align: middle;\n",
       "    }\n",
       "\n",
       "    .dataframe tbody tr th {\n",
       "        vertical-align: top;\n",
       "    }\n",
       "\n",
       "    .dataframe thead th {\n",
       "        text-align: right;\n",
       "    }\n",
       "</style>\n",
       "<table border=\"1\" class=\"dataframe\">\n",
       "  <thead>\n",
       "    <tr style=\"text-align: right;\">\n",
       "      <th></th>\n",
       "      <th>spf_open</th>\n",
       "      <th>spf_high</th>\n",
       "      <th>spf_low</th>\n",
       "      <th>spf_close</th>\n",
       "      <th>spf_adj close</th>\n",
       "      <th>spf_volume</th>\n",
       "      <th>spf_sma_3</th>\n",
       "      <th>spf_wma_3</th>\n",
       "      <th>spf_trima_3</th>\n",
       "      <th>spf_ema_3</th>\n",
       "      <th>...</th>\n",
       "      <th>hous_starts</th>\n",
       "      <th>hous_permits</th>\n",
       "      <th>gdp_250</th>\n",
       "      <th>uk100</th>\n",
       "      <th>uk100_250</th>\n",
       "      <th>em</th>\n",
       "      <th>em_250</th>\n",
       "      <th>europe600</th>\n",
       "      <th>europe600_250</th>\n",
       "      <th>target</th>\n",
       "    </tr>\n",
       "    <tr>\n",
       "      <th>Date</th>\n",
       "      <th></th>\n",
       "      <th></th>\n",
       "      <th></th>\n",
       "      <th></th>\n",
       "      <th></th>\n",
       "      <th></th>\n",
       "      <th></th>\n",
       "      <th></th>\n",
       "      <th></th>\n",
       "      <th></th>\n",
       "      <th></th>\n",
       "      <th></th>\n",
       "      <th></th>\n",
       "      <th></th>\n",
       "      <th></th>\n",
       "      <th></th>\n",
       "      <th></th>\n",
       "      <th></th>\n",
       "      <th></th>\n",
       "      <th></th>\n",
       "      <th></th>\n",
       "    </tr>\n",
       "  </thead>\n",
       "  <tbody>\n",
       "    <tr>\n",
       "      <th>2000-09-18</th>\n",
       "      <td>1485.25</td>\n",
       "      <td>1489.75</td>\n",
       "      <td>1462.25</td>\n",
       "      <td>1467.50</td>\n",
       "      <td>1467.50</td>\n",
       "      <td>104794.0</td>\n",
       "      <td>1471.833333</td>\n",
       "      <td>1472.166667</td>\n",
       "      <td>1473.5000</td>\n",
       "      <td>1471.833333</td>\n",
       "      <td>...</td>\n",
       "      <td>1507.0</td>\n",
       "      <td>1570.0</td>\n",
       "      <td>0.027123</td>\n",
       "      <td>6410.200195</td>\n",
       "      <td>6410.200195</td>\n",
       "      <td>7.978623</td>\n",
       "      <td>0.000000</td>\n",
       "      <td>247.070007</td>\n",
       "      <td>0.000000</td>\n",
       "      <td>0</td>\n",
       "    </tr>\n",
       "    <tr>\n",
       "      <th>2000-09-19</th>\n",
       "      <td>1467.00</td>\n",
       "      <td>1482.75</td>\n",
       "      <td>1466.75</td>\n",
       "      <td>1478.50</td>\n",
       "      <td>1478.50</td>\n",
       "      <td>103371.0</td>\n",
       "      <td>1471.833333</td>\n",
       "      <td>1472.166667</td>\n",
       "      <td>1473.5000</td>\n",
       "      <td>1471.833333</td>\n",
       "      <td>...</td>\n",
       "      <td>1507.0</td>\n",
       "      <td>1570.0</td>\n",
       "      <td>0.027123</td>\n",
       "      <td>6403.500000</td>\n",
       "      <td>6403.500000</td>\n",
       "      <td>7.978623</td>\n",
       "      <td>0.000000</td>\n",
       "      <td>247.070007</td>\n",
       "      <td>0.000000</td>\n",
       "      <td>0</td>\n",
       "    </tr>\n",
       "    <tr>\n",
       "      <th>2000-09-20</th>\n",
       "      <td>1478.75</td>\n",
       "      <td>1480.50</td>\n",
       "      <td>1450.25</td>\n",
       "      <td>1469.50</td>\n",
       "      <td>1469.50</td>\n",
       "      <td>109667.0</td>\n",
       "      <td>1471.833333</td>\n",
       "      <td>1472.166667</td>\n",
       "      <td>1473.5000</td>\n",
       "      <td>1471.833333</td>\n",
       "      <td>...</td>\n",
       "      <td>1507.0</td>\n",
       "      <td>1570.0</td>\n",
       "      <td>0.027123</td>\n",
       "      <td>6279.899902</td>\n",
       "      <td>6279.899902</td>\n",
       "      <td>7.978623</td>\n",
       "      <td>0.000000</td>\n",
       "      <td>247.070007</td>\n",
       "      <td>0.000000</td>\n",
       "      <td>0</td>\n",
       "    </tr>\n",
       "    <tr>\n",
       "      <th>2000-09-21</th>\n",
       "      <td>1470.25</td>\n",
       "      <td>1474.00</td>\n",
       "      <td>1455.50</td>\n",
       "      <td>1469.50</td>\n",
       "      <td>1469.50</td>\n",
       "      <td>98528.0</td>\n",
       "      <td>1472.500000</td>\n",
       "      <td>1471.000000</td>\n",
       "      <td>1471.7500</td>\n",
       "      <td>1470.666667</td>\n",
       "      <td>...</td>\n",
       "      <td>1507.0</td>\n",
       "      <td>1570.0</td>\n",
       "      <td>0.027123</td>\n",
       "      <td>6199.200195</td>\n",
       "      <td>6199.200195</td>\n",
       "      <td>7.978623</td>\n",
       "      <td>0.000000</td>\n",
       "      <td>247.070007</td>\n",
       "      <td>0.000000</td>\n",
       "      <td>0</td>\n",
       "    </tr>\n",
       "    <tr>\n",
       "      <th>2000-09-22</th>\n",
       "      <td>1454.75</td>\n",
       "      <td>1471.00</td>\n",
       "      <td>1436.75</td>\n",
       "      <td>1468.50</td>\n",
       "      <td>1468.50</td>\n",
       "      <td>97416.0</td>\n",
       "      <td>1469.166667</td>\n",
       "      <td>1469.000000</td>\n",
       "      <td>1469.2500</td>\n",
       "      <td>1469.583333</td>\n",
       "      <td>...</td>\n",
       "      <td>1507.0</td>\n",
       "      <td>1570.0</td>\n",
       "      <td>0.027123</td>\n",
       "      <td>6205.899902</td>\n",
       "      <td>6205.899902</td>\n",
       "      <td>7.978623</td>\n",
       "      <td>0.000000</td>\n",
       "      <td>247.070007</td>\n",
       "      <td>0.000000</td>\n",
       "      <td>0</td>\n",
       "    </tr>\n",
       "    <tr>\n",
       "      <th>...</th>\n",
       "      <td>...</td>\n",
       "      <td>...</td>\n",
       "      <td>...</td>\n",
       "      <td>...</td>\n",
       "      <td>...</td>\n",
       "      <td>...</td>\n",
       "      <td>...</td>\n",
       "      <td>...</td>\n",
       "      <td>...</td>\n",
       "      <td>...</td>\n",
       "      <td>...</td>\n",
       "      <td>...</td>\n",
       "      <td>...</td>\n",
       "      <td>...</td>\n",
       "      <td>...</td>\n",
       "      <td>...</td>\n",
       "      <td>...</td>\n",
       "      <td>...</td>\n",
       "      <td>...</td>\n",
       "      <td>...</td>\n",
       "      <td>...</td>\n",
       "    </tr>\n",
       "    <tr>\n",
       "      <th>2022-05-06</th>\n",
       "      <td>4146.50</td>\n",
       "      <td>4153.25</td>\n",
       "      <td>4062.00</td>\n",
       "      <td>4119.50</td>\n",
       "      <td>4119.50</td>\n",
       "      <td>2310919.0</td>\n",
       "      <td>4186.000000</td>\n",
       "      <td>4156.708333</td>\n",
       "      <td>4175.3125</td>\n",
       "      <td>4153.629427</td>\n",
       "      <td>...</td>\n",
       "      <td>1793.0</td>\n",
       "      <td>1873.0</td>\n",
       "      <td>0.055488</td>\n",
       "      <td>7387.899902</td>\n",
       "      <td>7387.899902</td>\n",
       "      <td>40.930000</td>\n",
       "      <td>-0.197842</td>\n",
       "      <td>429.910004</td>\n",
       "      <td>-0.197842</td>\n",
       "      <td>0</td>\n",
       "    </tr>\n",
       "    <tr>\n",
       "      <th>2022-05-09</th>\n",
       "      <td>4087.25</td>\n",
       "      <td>4099.00</td>\n",
       "      <td>3970.00</td>\n",
       "      <td>3987.50</td>\n",
       "      <td>3987.50</td>\n",
       "      <td>2139992.0</td>\n",
       "      <td>4083.416667</td>\n",
       "      <td>4057.458333</td>\n",
       "      <td>4092.4375</td>\n",
       "      <td>4070.564714</td>\n",
       "      <td>...</td>\n",
       "      <td>1793.0</td>\n",
       "      <td>1873.0</td>\n",
       "      <td>0.055488</td>\n",
       "      <td>7216.600098</td>\n",
       "      <td>7216.600098</td>\n",
       "      <td>39.750000</td>\n",
       "      <td>-0.234798</td>\n",
       "      <td>417.459991</td>\n",
       "      <td>-0.234798</td>\n",
       "      <td>1</td>\n",
       "    </tr>\n",
       "    <tr>\n",
       "      <th>2022-05-10</th>\n",
       "      <td>3993.25</td>\n",
       "      <td>4065.50</td>\n",
       "      <td>3953.00</td>\n",
       "      <td>3996.75</td>\n",
       "      <td>3996.75</td>\n",
       "      <td>2247750.0</td>\n",
       "      <td>4034.583333</td>\n",
       "      <td>4014.125000</td>\n",
       "      <td>4022.8125</td>\n",
       "      <td>4033.657357</td>\n",
       "      <td>...</td>\n",
       "      <td>1793.0</td>\n",
       "      <td>1873.0</td>\n",
       "      <td>0.055488</td>\n",
       "      <td>7243.200195</td>\n",
       "      <td>7243.200195</td>\n",
       "      <td>39.939999</td>\n",
       "      <td>-0.230414</td>\n",
       "      <td>420.290009</td>\n",
       "      <td>-0.230414</td>\n",
       "      <td>0</td>\n",
       "    </tr>\n",
       "    <tr>\n",
       "      <th>2022-05-11</th>\n",
       "      <td>3990.50</td>\n",
       "      <td>4050.50</td>\n",
       "      <td>3923.75</td>\n",
       "      <td>3930.25</td>\n",
       "      <td>3930.25</td>\n",
       "      <td>2247750.0</td>\n",
       "      <td>3971.500000</td>\n",
       "      <td>3961.958333</td>\n",
       "      <td>3977.8125</td>\n",
       "      <td>3981.953678</td>\n",
       "      <td>...</td>\n",
       "      <td>1793.0</td>\n",
       "      <td>1873.0</td>\n",
       "      <td>0.055488</td>\n",
       "      <td>7347.700195</td>\n",
       "      <td>7347.700195</td>\n",
       "      <td>39.660000</td>\n",
       "      <td>-0.245930</td>\n",
       "      <td>427.589996</td>\n",
       "      <td>-0.245930</td>\n",
       "      <td>0</td>\n",
       "    </tr>\n",
       "    <tr>\n",
       "      <th>2022-05-12</th>\n",
       "      <td>3939.75</td>\n",
       "      <td>3954.25</td>\n",
       "      <td>3891.50</td>\n",
       "      <td>3915.75</td>\n",
       "      <td>3915.75</td>\n",
       "      <td>284415.0</td>\n",
       "      <td>3947.583333</td>\n",
       "      <td>3934.083333</td>\n",
       "      <td>3943.2500</td>\n",
       "      <td>3948.851839</td>\n",
       "      <td>...</td>\n",
       "      <td>1793.0</td>\n",
       "      <td>1873.0</td>\n",
       "      <td>0.055488</td>\n",
       "      <td>7233.299805</td>\n",
       "      <td>7233.299805</td>\n",
       "      <td>39.400002</td>\n",
       "      <td>-0.248631</td>\n",
       "      <td>424.399994</td>\n",
       "      <td>-0.248631</td>\n",
       "      <td>0</td>\n",
       "    </tr>\n",
       "  </tbody>\n",
       "</table>\n",
       "<p>5472 rows × 259 columns</p>\n",
       "</div>"
      ],
      "text/plain": [
       "            spf_open  spf_high  spf_low  spf_close  spf_adj close  spf_volume  \\\n",
       "Date                                                                            \n",
       "2000-09-18   1485.25   1489.75  1462.25    1467.50        1467.50    104794.0   \n",
       "2000-09-19   1467.00   1482.75  1466.75    1478.50        1478.50    103371.0   \n",
       "2000-09-20   1478.75   1480.50  1450.25    1469.50        1469.50    109667.0   \n",
       "2000-09-21   1470.25   1474.00  1455.50    1469.50        1469.50     98528.0   \n",
       "2000-09-22   1454.75   1471.00  1436.75    1468.50        1468.50     97416.0   \n",
       "...              ...       ...      ...        ...            ...         ...   \n",
       "2022-05-06   4146.50   4153.25  4062.00    4119.50        4119.50   2310919.0   \n",
       "2022-05-09   4087.25   4099.00  3970.00    3987.50        3987.50   2139992.0   \n",
       "2022-05-10   3993.25   4065.50  3953.00    3996.75        3996.75   2247750.0   \n",
       "2022-05-11   3990.50   4050.50  3923.75    3930.25        3930.25   2247750.0   \n",
       "2022-05-12   3939.75   3954.25  3891.50    3915.75        3915.75    284415.0   \n",
       "\n",
       "              spf_sma_3    spf_wma_3  spf_trima_3    spf_ema_3  ...  \\\n",
       "Date                                                            ...   \n",
       "2000-09-18  1471.833333  1472.166667    1473.5000  1471.833333  ...   \n",
       "2000-09-19  1471.833333  1472.166667    1473.5000  1471.833333  ...   \n",
       "2000-09-20  1471.833333  1472.166667    1473.5000  1471.833333  ...   \n",
       "2000-09-21  1472.500000  1471.000000    1471.7500  1470.666667  ...   \n",
       "2000-09-22  1469.166667  1469.000000    1469.2500  1469.583333  ...   \n",
       "...                 ...          ...          ...          ...  ...   \n",
       "2022-05-06  4186.000000  4156.708333    4175.3125  4153.629427  ...   \n",
       "2022-05-09  4083.416667  4057.458333    4092.4375  4070.564714  ...   \n",
       "2022-05-10  4034.583333  4014.125000    4022.8125  4033.657357  ...   \n",
       "2022-05-11  3971.500000  3961.958333    3977.8125  3981.953678  ...   \n",
       "2022-05-12  3947.583333  3934.083333    3943.2500  3948.851839  ...   \n",
       "\n",
       "            hous_starts  hous_permits   gdp_250        uk100    uk100_250  \\\n",
       "Date                                                                        \n",
       "2000-09-18       1507.0        1570.0  0.027123  6410.200195  6410.200195   \n",
       "2000-09-19       1507.0        1570.0  0.027123  6403.500000  6403.500000   \n",
       "2000-09-20       1507.0        1570.0  0.027123  6279.899902  6279.899902   \n",
       "2000-09-21       1507.0        1570.0  0.027123  6199.200195  6199.200195   \n",
       "2000-09-22       1507.0        1570.0  0.027123  6205.899902  6205.899902   \n",
       "...                 ...           ...       ...          ...          ...   \n",
       "2022-05-06       1793.0        1873.0  0.055488  7387.899902  7387.899902   \n",
       "2022-05-09       1793.0        1873.0  0.055488  7216.600098  7216.600098   \n",
       "2022-05-10       1793.0        1873.0  0.055488  7243.200195  7243.200195   \n",
       "2022-05-11       1793.0        1873.0  0.055488  7347.700195  7347.700195   \n",
       "2022-05-12       1793.0        1873.0  0.055488  7233.299805  7233.299805   \n",
       "\n",
       "                   em    em_250   europe600  europe600_250  target  \n",
       "Date                                                                \n",
       "2000-09-18   7.978623  0.000000  247.070007       0.000000       0  \n",
       "2000-09-19   7.978623  0.000000  247.070007       0.000000       0  \n",
       "2000-09-20   7.978623  0.000000  247.070007       0.000000       0  \n",
       "2000-09-21   7.978623  0.000000  247.070007       0.000000       0  \n",
       "2000-09-22   7.978623  0.000000  247.070007       0.000000       0  \n",
       "...               ...       ...         ...            ...     ...  \n",
       "2022-05-06  40.930000 -0.197842  429.910004      -0.197842       0  \n",
       "2022-05-09  39.750000 -0.234798  417.459991      -0.234798       1  \n",
       "2022-05-10  39.939999 -0.230414  420.290009      -0.230414       0  \n",
       "2022-05-11  39.660000 -0.245930  427.589996      -0.245930       0  \n",
       "2022-05-12  39.400002 -0.248631  424.399994      -0.248631       0  \n",
       "\n",
       "[5472 rows x 259 columns]"
      ]
     },
     "execution_count": 3,
     "metadata": {},
     "output_type": "execute_result"
    }
   ],
   "source": [
    "df"
   ]
  },
  {
   "cell_type": "code",
   "execution_count": null,
   "id": "04a1dd15-ce3f-4c47-a020-cc3cd10dd23e",
   "metadata": {
    "id": "04a1dd15-ce3f-4c47-a020-cc3cd10dd23e"
   },
   "outputs": [],
   "source": [
    "values = df.values"
   ]
  },
  {
   "cell_type": "code",
   "execution_count": null,
   "id": "ac2f6903-a053-419a-9488-b96d419fcd5f",
   "metadata": {
    "id": "ac2f6903-a053-419a-9488-b96d419fcd5f",
    "outputId": "4527045f-e723-4f1c-fb98-e51761a3a7fc"
   },
   "outputs": [
    {
     "data": {
      "text/plain": [
       "array([[ 1.48525000e+03,  1.48975000e+03,  1.46225000e+03, ...,\n",
       "         2.47070007e+02,  0.00000000e+00,  0.00000000e+00],\n",
       "       [ 1.46700000e+03,  1.48275000e+03,  1.46675000e+03, ...,\n",
       "         2.47070007e+02,  0.00000000e+00,  0.00000000e+00],\n",
       "       [ 1.47875000e+03,  1.48050000e+03,  1.45025000e+03, ...,\n",
       "         2.47070007e+02,  0.00000000e+00,  0.00000000e+00],\n",
       "       ...,\n",
       "       [ 3.99325000e+03,  4.06550000e+03,  3.95300000e+03, ...,\n",
       "         4.20290009e+02, -2.30413852e-01,  0.00000000e+00],\n",
       "       [ 3.99050000e+03,  4.05050000e+03,  3.92375000e+03, ...,\n",
       "         4.27589996e+02, -2.45929766e-01,  0.00000000e+00],\n",
       "       [ 3.93975000e+03,  3.95425000e+03,  3.89150000e+03, ...,\n",
       "         4.24399994e+02, -2.48630713e-01,  0.00000000e+00]])"
      ]
     },
     "execution_count": 5,
     "metadata": {},
     "output_type": "execute_result"
    }
   ],
   "source": [
    "values"
   ]
  },
  {
   "cell_type": "code",
   "execution_count": null,
   "id": "01a5b81f-5f4d-4d89-aac2-dfcdd81c534e",
   "metadata": {
    "id": "01a5b81f-5f4d-4d89-aac2-dfcdd81c534e"
   },
   "outputs": [],
   "source": [
    "# Convert time series data for supervised ML Models, by concatenating consecutive n=5 days (seq_length=5)\n",
    "# and predicting the n+1th day target\n",
    "\n",
    "def series_to_supervised(data, n_in=1, n_out=1, dropnan=True):\n",
    "    df = pd.DataFrame(data)\n",
    "    df_x = df.iloc[:,:-1]\n",
    "    df_y = df.iloc[:,-1:]\n",
    "    cols = list()\n",
    "    # input sequence (t-n, ... t-1)\n",
    "    for i in range(n_in, 0, -1):\n",
    "        cols.append(df_x.shift(i))\n",
    "    # forecast sequence (t, t+1, ... t+n)\n",
    "    for i in range(0, n_out):\n",
    "        cols.append(df_y.shift(-i))\n",
    "    # put it all together\n",
    "    agg = pd.concat(cols, axis=1)\n",
    "    # drop rows with NaN values\n",
    "    if dropnan:\n",
    "        agg.dropna(inplace=True)\n",
    "    return agg.values"
   ]
  },
  {
   "cell_type": "code",
   "execution_count": null,
   "id": "2f0fdb0a-b1b9-4faa-8d6f-c559dc3c57c8",
   "metadata": {
    "id": "2f0fdb0a-b1b9-4faa-8d6f-c559dc3c57c8"
   },
   "outputs": [],
   "source": [
    "sequence_length = 5\n",
    "values = series_to_supervised(values, n_in=sequence_length)"
   ]
  },
  {
   "cell_type": "code",
   "execution_count": null,
   "id": "4989f379-5c42-4d6f-a9f6-b64b93920a37",
   "metadata": {
    "id": "4989f379-5c42-4d6f-a9f6-b64b93920a37",
    "outputId": "ae9ecf09-2faf-497c-8e38-77b6d534aeb5"
   },
   "outputs": [
    {
     "data": {
      "text/plain": [
       "array([[ 1.48525000e+03,  1.48975000e+03,  1.46225000e+03, ...,\n",
       "         2.47070007e+02,  0.00000000e+00,  0.00000000e+00],\n",
       "       [ 1.46700000e+03,  1.48275000e+03,  1.46675000e+03, ...,\n",
       "         2.47070007e+02,  0.00000000e+00,  0.00000000e+00],\n",
       "       [ 1.47875000e+03,  1.48050000e+03,  1.45025000e+03, ...,\n",
       "         2.47070007e+02,  0.00000000e+00,  0.00000000e+00],\n",
       "       ...,\n",
       "       [ 4.14550000e+03,  4.19575000e+03,  4.12900000e+03, ...,\n",
       "         4.17459991e+02, -2.34798052e-01,  0.00000000e+00],\n",
       "       [ 4.17125000e+03,  4.30300000e+03,  4.14275000e+03, ...,\n",
       "         4.20290009e+02, -2.30413852e-01,  0.00000000e+00],\n",
       "       [ 4.28975000e+03,  4.30075000e+03,  4.09925000e+03, ...,\n",
       "         4.27589996e+02, -2.45929766e-01,  0.00000000e+00]])"
      ]
     },
     "execution_count": 84,
     "metadata": {},
     "output_type": "execute_result"
    }
   ],
   "source": [
    "values"
   ]
  },
  {
   "cell_type": "markdown",
   "id": "c49e66ed-1f8c-49e7-85c6-11c974b6f3ec",
   "metadata": {
    "id": "c49e66ed-1f8c-49e7-85c6-11c974b6f3ec"
   },
   "source": [
    "## Models"
   ]
  },
  {
   "cell_type": "code",
   "execution_count": null,
   "id": "5f2fed65-b312-4430-82db-03c86d87fb31",
   "metadata": {
    "id": "5f2fed65-b312-4430-82db-03c86d87fb31"
   },
   "outputs": [],
   "source": [
    "# Creating the classifiers and appending them to a list\n",
    "\n",
    "weights = {0:1.0, 1:300.0}\n",
    "\n",
    "lr_clf = LogisticRegression(random_state=0, max_iter=10000, class_weight=weights)\n",
    "\n",
    "tree_clf = DecisionTreeClassifier(criterion=\"entropy\", random_state=0, class_weight=weights)\n",
    "\n",
    "kernel = \"rbf\"\n",
    "c = 1\n",
    "gamma = \"auto\"\n",
    "svc_clf = SVC(kernel=kernel, C=c,gamma=gamma, probability=True, class_weight=weights)\n",
    "\n",
    "# LightGB\n",
    "number_of_positive_samples = len(df[df[\"target\"] == 1])\n",
    "total_samples = len(df)\n",
    "scale_pos_weight = 100 - (number_of_positive_samples / total_samples * 100)\n",
    "params = {\n",
    "   \"scale_pos_weight\": scale_pos_weight\n",
    "}\n",
    "lgb_clf = LGBMClassifier(scale_pos_weight=300)\n",
    "\n",
    "num_trees = 100\n",
    "max_features = 3\n",
    "rf_clf = RandomForestClassifier(n_estimators=num_trees, max_features=max_features, class_weight=weights)\n",
    "\n",
    "num_trees = 50\n",
    "seed=7\n",
    "ada_clf = AdaBoostClassifier(n_estimators=num_trees, random_state=seed)\n",
    "\n",
    "\n",
    "models = []\n",
    "models.append(('LR',  lr_clf))\n",
    "models.append(('SVC', svc_clf))\n",
    "models.append(('ABC',  ada_clf))\n",
    "models.append(('DT',  tree_clf))\n",
    "models.append(('RF',  rf_clf))\n",
    "models.append(('XGB', lgb_clf))"
   ]
  },
  {
   "cell_type": "code",
   "execution_count": null,
   "id": "d60ffb7f-e071-4ea9-b150-0b8cddea34b9",
   "metadata": {
    "id": "d60ffb7f-e071-4ea9-b150-0b8cddea34b9"
   },
   "outputs": [],
   "source": [
    "# Perform walk forward validation with expanding train data, train the model iteratively and evaluate the final metrics\n",
    "\n",
    "def model_eval(model, values, n_train):\n",
    "    pred = []\n",
    "    y_true = []\n",
    "    probs = []\n",
    "    \n",
    "    for i in tqdm(range(n_train, len(values))):\n",
    "        \n",
    "        train, test = values[0:i], values[i:i+1]\n",
    "        \n",
    "        # Split features, labels\n",
    "        x_train = train[:,:-1]\n",
    "        y_train = train[:,-1]\n",
    "\n",
    "        x_test = test[:,:-1]\n",
    "        y_test = test[:,-1]\n",
    "        \n",
    "        # Standardize the data\n",
    "        scaler = StandardScaler()\n",
    "        x_train = scaler.fit_transform(x_train)\n",
    "        x_test = scaler.transform(x_test)\n",
    "        \n",
    "        # fit data to model and predict probabilities\n",
    "        model.fit(x_train, y_train)\n",
    "        predictions = model.predict(x_test)\n",
    "        pred.append(predictions[0])\n",
    "        y_true.append(y_test[0, 0])\n",
    "        prob = model.predict_proba(x_test)\n",
    "        probs.append(prob[:, 1])\n",
    "        \n",
    "        print(pred)\n",
    "        print(y_true)\n",
    "        \n",
    "\n",
    "    accuracy = accuracy_score(y_true, pred)\n",
    "    report = classification_report(y_true, pred, labels=[0, 1], target_names=[\"0\", \"1\"], output_dict=True)\n",
    "    prec_1 = report[\"1\"][\"precision\"]\n",
    "    rec_1 = report[\"1\"][\"recall\"]\n",
    "    f1_1 = report[\"1\"][\"f1-score\"]        \n",
    "    \n",
    "\n",
    "    return rec_1, prec_1, f1_1, accuracy"
   ]
  },
  {
   "cell_type": "code",
   "execution_count": null,
   "id": "77dd304d-d0e8-4151-9648-37b5dac8a5ef",
   "metadata": {
    "id": "77dd304d-d0e8-4151-9648-37b5dac8a5ef"
   },
   "outputs": [],
   "source": [
    "# Perform 20 iterations for each model and call the model_eval function for the expanding training time window,\n",
    "# the training and the evaluation\n",
    "\n",
    "# Keep the n=20 samples for each model's metrics in lists embodied in a dictionary\n",
    "\n",
    "results = defaultdict(dict)\n",
    "\n",
    "# The expanding data split of train/test begins at position 5447 and will repeat for 20 time steps, until we predict the last\n",
    "# day's target\n",
    "\n",
    "n_train = 5447\n",
    "n_repetitions = 20\n",
    "\n",
    "for model in tqdm(models):\n",
    "    accuracies = []\n",
    "    recalls = []\n",
    "    precisions = []\n",
    "    f1_scores = []\n",
    "    for j in tqdm(range(0, n_repetitions)):\n",
    "        rec, prec, f1_score, acc = model_eval(model[1], values, n_train)\n",
    "        accuracies.append(acc)\n",
    "        recalls.append(rec)\n",
    "        precisions.append(prec)\n",
    "        f1_scores.append(f1_score)\n",
    "    results[model[0]] = {'accuracy':[], 'recall':[], 'precision':[], 'f1_score':[]}\n",
    "    results[model[0]]['accuracy'] = accuracies\n",
    "    results[model[0]]['recall'] = recalls\n",
    "    results[model[0]]['precision'] = precisions\n",
    "    results[model[0]]['f1_score'] = f1_scores"
   ]
  },
  {
   "cell_type": "code",
   "execution_count": null,
   "id": "a3b572f5",
   "metadata": {
    "id": "a3b572f5"
   },
   "outputs": [],
   "source": [
    "# Preparing the data for the LSTM model\n",
    "\n",
    "features = df[df.columns[0:-1]].to_numpy()\n",
    "target = df.iloc[: , -1].to_numpy()"
   ]
  },
  {
   "cell_type": "code",
   "execution_count": null,
   "id": "4b542d71",
   "metadata": {
    "id": "4b542d71"
   },
   "outputs": [],
   "source": [
    "# Dropping the data from the features\n",
    "\n",
    "features = np.delete(features, [0], 1).astype('float32')\n",
    "\n",
    "N = len(features)"
   ]
  },
  {
   "cell_type": "code",
   "execution_count": null,
   "id": "1da2ae7f",
   "metadata": {
    "id": "1da2ae7f",
    "outputId": "1ebd50e9-09e7-4acc-a4a8-12c9dd466ac8"
   },
   "outputs": [
    {
     "data": {
      "text/plain": [
       "(5472, 257)"
      ]
     },
     "execution_count": 14,
     "metadata": {},
     "output_type": "execute_result"
    }
   ],
   "source": [
    "features.shape"
   ]
  },
  {
   "cell_type": "code",
   "execution_count": null,
   "id": "42208500",
   "metadata": {
    "id": "42208500"
   },
   "outputs": [],
   "source": [
    "# Create the LSTM model\n",
    "\n",
    "D = features.shape[1]\n",
    "\n",
    "i = Input(shape=(sequence_length,D))\n",
    "x = LSTM(30, return_sequences=True)(i)\n",
    "x = LSTM(5, return_sequences=False)(x)\n",
    "x = Dense(10)(x)\n",
    "x = Dense(1, activation='sigmoid')(x)\n",
    "deep_lstm = Model(i,x)\n",
    "\n",
    "rnn_models = []\n",
    "rnn_models.append(('deep_lstm', deep_lstm))\n",
    "\n",
    "\n",
    "\n",
    "for rnn_model in rnn_models:\n",
    "    accuracies = []\n",
    "    recalls = []\n",
    "    precisions = []\n",
    "    f1_scores = []\n",
    "\n",
    "    \n",
    "# Perform 20 iterations, using again the expanding time window\n",
    "# The code is different from the ML models, since here we needed 3d data (N,T,D) for the LSTM model\n",
    "# where N = # of samples, T = sequence_length, D = # of dimensions\n",
    "\n",
    "    \n",
    "    for l in range(0, n_repetitions):\n",
    "        pred = []\n",
    "        y_true = [] \n",
    "        probs = []\n",
    "        \n",
    "        # walk forward cross validation for LSTM\n",
    "        \n",
    "        for k in tqdm(range(n_train, len(features)-sequence_length)):\n",
    "            features_train = features[:k]\n",
    "            features_test = features[k:]\n",
    "\n",
    "            scaler = StandardScaler()\n",
    "            scaler.fit(features_train)\n",
    "            features_train = scaler.transform(features_train)\n",
    "            features_test = scaler.transform(features_test)\n",
    "\n",
    "            # create X_train, Y_train, X_test, Y_test \n",
    "            X_train = []\n",
    "            Y_train = []\n",
    "            X_test = []\n",
    "            Y_test = []\n",
    "\n",
    "            for t in range(k - sequence_length):\n",
    "                x = features_train[t:t+sequence_length]\n",
    "                X_train.append(x)\n",
    "                y = target[t+sequence_length]\n",
    "                Y_train.append(y)\n",
    "\n",
    "\n",
    "            X_train = np.array(X_train).reshape(-1,sequence_length,D)\n",
    "            Y_train = np.array(Y_train)\n",
    "\n",
    "            \n",
    "            X_test = features_test[0:sequence_length]\n",
    "            Y_test = target[k+sequence_length]\n",
    "\n",
    "\n",
    "            X_test = np.array(X_test).reshape(-1,sequence_length,D)\n",
    "            Y_test = np.array(Y_test)\n",
    "            y_true.append(Y_test)\n",
    "            rnn_model[1].compile(loss='binary_crossentropy',\n",
    "                      optimizer=Adam(learning_rate=0.001),\n",
    "                      metrics=[BinaryAccuracy(name='accuracy', threshold=0.5),Recall(name='recall'),Precision(name='precision')])\n",
    "\n",
    "            class_weight = {0: 1., 1: 6.2}\n",
    "            r = rnn_model[1].fit(X_train,Y_train,epochs=100,verbose=0)\n",
    "            prediction = (rnn_model[1].predict(X_test)[0,0]>0.5).astype('int32')\n",
    "            pred.append(prediction)\n",
    "            prob = rnn_model[1].predict(X_test)[0,0]\n",
    "            probs.append(prob)\n",
    "   \n",
    "            # Again, we calculate the evaluation metrics after the finish of the expanding training data, \n",
    "            # and we repeat the process for a total of 20 iterations\n",
    "        \n",
    "        accuracy = accuracy_score(y_true, pred)\n",
    "        report = classification_report(y_true, pred, labels=[0, 1], target_names=[\"0\", \"1\"], output_dict=True)\n",
    "        prec_1 = report[\"1\"][\"precision\"]\n",
    "        rec_1 = report[\"1\"][\"recall\"]\n",
    "        f1_1 = report[\"1\"][\"f1-score\"]\n",
    "\n",
    "        recalls.append(rec_1)\n",
    "        precisions.append(prec_1)\n",
    "        f1_scores.append(f1_1)\n",
    "        accuracies.append(accuracy)\n",
    "\n",
    "        \n",
    "    results[rnn_model[0]] = {'accuracy':[], 'recall':[], 'precision':[], 'f1_score':[]}\n",
    "    results[rnn_model[0]]['accuracy'] = accuracies\n",
    "    results[rnn_model[0]]['recall'] = recalls\n",
    "    results[rnn_model[0]]['precision'] = precisions\n",
    "    results[rnn_model[0]]['f1_score'] = f1_scores"
   ]
  },
  {
   "cell_type": "code",
   "execution_count": null,
   "id": "91562053",
   "metadata": {
    "id": "91562053",
    "outputId": "e4e82e0f-6956-4617-bc33-7039d9abbd13"
   },
   "outputs": [
    {
     "data": {
      "text/plain": [
       "defaultdict(dict,\n",
       "            {'LR': {'accuracy': [0.6,\n",
       "               0.6,\n",
       "               0.6,\n",
       "               0.6,\n",
       "               0.6,\n",
       "               0.6,\n",
       "               0.6,\n",
       "               0.6,\n",
       "               0.6,\n",
       "               0.6,\n",
       "               0.6,\n",
       "               0.6,\n",
       "               0.6,\n",
       "               0.6,\n",
       "               0.6,\n",
       "               0.6,\n",
       "               0.6,\n",
       "               0.6,\n",
       "               0.6,\n",
       "               0.6],\n",
       "              'recall': [0.8,\n",
       "               0.8,\n",
       "               0.8,\n",
       "               0.8,\n",
       "               0.8,\n",
       "               0.8,\n",
       "               0.8,\n",
       "               0.8,\n",
       "               0.8,\n",
       "               0.8,\n",
       "               0.8,\n",
       "               0.8,\n",
       "               0.8,\n",
       "               0.8,\n",
       "               0.8,\n",
       "               0.8,\n",
       "               0.8,\n",
       "               0.8,\n",
       "               0.8,\n",
       "               0.8],\n",
       "              'precision': [0.36363636363636365,\n",
       "               0.36363636363636365,\n",
       "               0.36363636363636365,\n",
       "               0.36363636363636365,\n",
       "               0.36363636363636365,\n",
       "               0.36363636363636365,\n",
       "               0.36363636363636365,\n",
       "               0.36363636363636365,\n",
       "               0.36363636363636365,\n",
       "               0.36363636363636365,\n",
       "               0.36363636363636365,\n",
       "               0.36363636363636365,\n",
       "               0.36363636363636365,\n",
       "               0.36363636363636365,\n",
       "               0.36363636363636365,\n",
       "               0.36363636363636365,\n",
       "               0.36363636363636365,\n",
       "               0.36363636363636365,\n",
       "               0.36363636363636365,\n",
       "               0.36363636363636365],\n",
       "              'f1_score': [0.5000000000000001,\n",
       "               0.5000000000000001,\n",
       "               0.5000000000000001,\n",
       "               0.5000000000000001,\n",
       "               0.5000000000000001,\n",
       "               0.5000000000000001,\n",
       "               0.5000000000000001,\n",
       "               0.5000000000000001,\n",
       "               0.5000000000000001,\n",
       "               0.5000000000000001,\n",
       "               0.5000000000000001,\n",
       "               0.5000000000000001,\n",
       "               0.5000000000000001,\n",
       "               0.5000000000000001,\n",
       "               0.5000000000000001,\n",
       "               0.5000000000000001,\n",
       "               0.5000000000000001,\n",
       "               0.5000000000000001,\n",
       "               0.5000000000000001,\n",
       "               0.5000000000000001]},\n",
       "             'SVC': {'accuracy': [0.45,\n",
       "               0.45,\n",
       "               0.45,\n",
       "               0.45,\n",
       "               0.45,\n",
       "               0.45,\n",
       "               0.45,\n",
       "               0.45,\n",
       "               0.45,\n",
       "               0.45,\n",
       "               0.45,\n",
       "               0.45,\n",
       "               0.45,\n",
       "               0.45,\n",
       "               0.45,\n",
       "               0.45,\n",
       "               0.45,\n",
       "               0.45,\n",
       "               0.45,\n",
       "               0.45],\n",
       "              'recall': [0.6,\n",
       "               0.6,\n",
       "               0.6,\n",
       "               0.6,\n",
       "               0.6,\n",
       "               0.6,\n",
       "               0.6,\n",
       "               0.6,\n",
       "               0.6,\n",
       "               0.6,\n",
       "               0.6,\n",
       "               0.6,\n",
       "               0.6,\n",
       "               0.6,\n",
       "               0.6,\n",
       "               0.6,\n",
       "               0.6,\n",
       "               0.6,\n",
       "               0.6,\n",
       "               0.6],\n",
       "              'precision': [0.25,\n",
       "               0.25,\n",
       "               0.25,\n",
       "               0.25,\n",
       "               0.25,\n",
       "               0.25,\n",
       "               0.25,\n",
       "               0.25,\n",
       "               0.25,\n",
       "               0.25,\n",
       "               0.25,\n",
       "               0.25,\n",
       "               0.25,\n",
       "               0.25,\n",
       "               0.25,\n",
       "               0.25,\n",
       "               0.25,\n",
       "               0.25,\n",
       "               0.25,\n",
       "               0.25],\n",
       "              'f1_score': [0.35294117647058826,\n",
       "               0.35294117647058826,\n",
       "               0.35294117647058826,\n",
       "               0.35294117647058826,\n",
       "               0.35294117647058826,\n",
       "               0.35294117647058826,\n",
       "               0.35294117647058826,\n",
       "               0.35294117647058826,\n",
       "               0.35294117647058826,\n",
       "               0.35294117647058826,\n",
       "               0.35294117647058826,\n",
       "               0.35294117647058826,\n",
       "               0.35294117647058826,\n",
       "               0.35294117647058826,\n",
       "               0.35294117647058826,\n",
       "               0.35294117647058826,\n",
       "               0.35294117647058826,\n",
       "               0.35294117647058826,\n",
       "               0.35294117647058826,\n",
       "               0.35294117647058826]},\n",
       "             'ABC': {'accuracy': [0.75,\n",
       "               0.75,\n",
       "               0.75,\n",
       "               0.75,\n",
       "               0.75,\n",
       "               0.75,\n",
       "               0.75,\n",
       "               0.75,\n",
       "               0.75,\n",
       "               0.75,\n",
       "               0.75,\n",
       "               0.75,\n",
       "               0.75,\n",
       "               0.75,\n",
       "               0.75,\n",
       "               0.75,\n",
       "               0.75,\n",
       "               0.75,\n",
       "               0.75,\n",
       "               0.75],\n",
       "              'recall': [0.0,\n",
       "               0.0,\n",
       "               0.0,\n",
       "               0.0,\n",
       "               0.0,\n",
       "               0.0,\n",
       "               0.0,\n",
       "               0.0,\n",
       "               0.0,\n",
       "               0.0,\n",
       "               0.0,\n",
       "               0.0,\n",
       "               0.0,\n",
       "               0.0,\n",
       "               0.0,\n",
       "               0.0,\n",
       "               0.0,\n",
       "               0.0,\n",
       "               0.0,\n",
       "               0.0],\n",
       "              'precision': [0.0,\n",
       "               0.0,\n",
       "               0.0,\n",
       "               0.0,\n",
       "               0.0,\n",
       "               0.0,\n",
       "               0.0,\n",
       "               0.0,\n",
       "               0.0,\n",
       "               0.0,\n",
       "               0.0,\n",
       "               0.0,\n",
       "               0.0,\n",
       "               0.0,\n",
       "               0.0,\n",
       "               0.0,\n",
       "               0.0,\n",
       "               0.0,\n",
       "               0.0,\n",
       "               0.0],\n",
       "              'f1_score': [0.0,\n",
       "               0.0,\n",
       "               0.0,\n",
       "               0.0,\n",
       "               0.0,\n",
       "               0.0,\n",
       "               0.0,\n",
       "               0.0,\n",
       "               0.0,\n",
       "               0.0,\n",
       "               0.0,\n",
       "               0.0,\n",
       "               0.0,\n",
       "               0.0,\n",
       "               0.0,\n",
       "               0.0,\n",
       "               0.0,\n",
       "               0.0,\n",
       "               0.0,\n",
       "               0.0]},\n",
       "             'DT': {'accuracy': [0.75,\n",
       "               0.75,\n",
       "               0.75,\n",
       "               0.75,\n",
       "               0.75,\n",
       "               0.75,\n",
       "               0.75,\n",
       "               0.75,\n",
       "               0.75,\n",
       "               0.75,\n",
       "               0.75,\n",
       "               0.75,\n",
       "               0.75,\n",
       "               0.75,\n",
       "               0.75,\n",
       "               0.75,\n",
       "               0.75,\n",
       "               0.75,\n",
       "               0.75,\n",
       "               0.75],\n",
       "              'recall': [0.4,\n",
       "               0.4,\n",
       "               0.4,\n",
       "               0.4,\n",
       "               0.4,\n",
       "               0.4,\n",
       "               0.4,\n",
       "               0.4,\n",
       "               0.4,\n",
       "               0.4,\n",
       "               0.4,\n",
       "               0.4,\n",
       "               0.4,\n",
       "               0.4,\n",
       "               0.4,\n",
       "               0.4,\n",
       "               0.4,\n",
       "               0.4,\n",
       "               0.4,\n",
       "               0.4],\n",
       "              'precision': [0.5,\n",
       "               0.5,\n",
       "               0.5,\n",
       "               0.5,\n",
       "               0.5,\n",
       "               0.5,\n",
       "               0.5,\n",
       "               0.5,\n",
       "               0.5,\n",
       "               0.5,\n",
       "               0.5,\n",
       "               0.5,\n",
       "               0.5,\n",
       "               0.5,\n",
       "               0.5,\n",
       "               0.5,\n",
       "               0.5,\n",
       "               0.5,\n",
       "               0.5,\n",
       "               0.5],\n",
       "              'f1_score': [0.4444444444444445,\n",
       "               0.4444444444444445,\n",
       "               0.4444444444444445,\n",
       "               0.4444444444444445,\n",
       "               0.4444444444444445,\n",
       "               0.4444444444444445,\n",
       "               0.4444444444444445,\n",
       "               0.4444444444444445,\n",
       "               0.4444444444444445,\n",
       "               0.4444444444444445,\n",
       "               0.4444444444444445,\n",
       "               0.4444444444444445,\n",
       "               0.4444444444444445,\n",
       "               0.4444444444444445,\n",
       "               0.4444444444444445,\n",
       "               0.4444444444444445,\n",
       "               0.4444444444444445,\n",
       "               0.4444444444444445,\n",
       "               0.4444444444444445,\n",
       "               0.4444444444444445]},\n",
       "             'RF': {'accuracy': [0.75,\n",
       "               0.75,\n",
       "               0.75,\n",
       "               0.75,\n",
       "               0.75,\n",
       "               0.75,\n",
       "               0.75,\n",
       "               0.75,\n",
       "               0.75,\n",
       "               0.75,\n",
       "               0.75,\n",
       "               0.75,\n",
       "               0.75,\n",
       "               0.75,\n",
       "               0.75,\n",
       "               0.75,\n",
       "               0.75,\n",
       "               0.75,\n",
       "               0.75,\n",
       "               0.75],\n",
       "              'recall': [0.0,\n",
       "               0.0,\n",
       "               0.0,\n",
       "               0.0,\n",
       "               0.0,\n",
       "               0.0,\n",
       "               0.0,\n",
       "               0.0,\n",
       "               0.0,\n",
       "               0.0,\n",
       "               0.0,\n",
       "               0.0,\n",
       "               0.0,\n",
       "               0.0,\n",
       "               0.0,\n",
       "               0.0,\n",
       "               0.0,\n",
       "               0.0,\n",
       "               0.0,\n",
       "               0.0],\n",
       "              'precision': [0.0,\n",
       "               0.0,\n",
       "               0.0,\n",
       "               0.0,\n",
       "               0.0,\n",
       "               0.0,\n",
       "               0.0,\n",
       "               0.0,\n",
       "               0.0,\n",
       "               0.0,\n",
       "               0.0,\n",
       "               0.0,\n",
       "               0.0,\n",
       "               0.0,\n",
       "               0.0,\n",
       "               0.0,\n",
       "               0.0,\n",
       "               0.0,\n",
       "               0.0,\n",
       "               0.0],\n",
       "              'f1_score': [0.0,\n",
       "               0.0,\n",
       "               0.0,\n",
       "               0.0,\n",
       "               0.0,\n",
       "               0.0,\n",
       "               0.0,\n",
       "               0.0,\n",
       "               0.0,\n",
       "               0.0,\n",
       "               0.0,\n",
       "               0.0,\n",
       "               0.0,\n",
       "               0.0,\n",
       "               0.0,\n",
       "               0.0,\n",
       "               0.0,\n",
       "               0.0,\n",
       "               0.0,\n",
       "               0.0]},\n",
       "             'XGB': {'accuracy': [0.8,\n",
       "               0.8,\n",
       "               0.8,\n",
       "               0.8,\n",
       "               0.8,\n",
       "               0.8,\n",
       "               0.8,\n",
       "               0.8,\n",
       "               0.8,\n",
       "               0.8,\n",
       "               0.8,\n",
       "               0.8,\n",
       "               0.8,\n",
       "               0.8,\n",
       "               0.8,\n",
       "               0.8,\n",
       "               0.8,\n",
       "               0.8,\n",
       "               0.8,\n",
       "               0.8],\n",
       "              'recall': [0.4,\n",
       "               0.4,\n",
       "               0.4,\n",
       "               0.4,\n",
       "               0.4,\n",
       "               0.4,\n",
       "               0.4,\n",
       "               0.4,\n",
       "               0.4,\n",
       "               0.4,\n",
       "               0.4,\n",
       "               0.4,\n",
       "               0.4,\n",
       "               0.4,\n",
       "               0.4,\n",
       "               0.4,\n",
       "               0.4,\n",
       "               0.4,\n",
       "               0.4,\n",
       "               0.4],\n",
       "              'precision': [0.6666666666666666,\n",
       "               0.6666666666666666,\n",
       "               0.6666666666666666,\n",
       "               0.6666666666666666,\n",
       "               0.6666666666666666,\n",
       "               0.6666666666666666,\n",
       "               0.6666666666666666,\n",
       "               0.6666666666666666,\n",
       "               0.6666666666666666,\n",
       "               0.6666666666666666,\n",
       "               0.6666666666666666,\n",
       "               0.6666666666666666,\n",
       "               0.6666666666666666,\n",
       "               0.6666666666666666,\n",
       "               0.6666666666666666,\n",
       "               0.6666666666666666,\n",
       "               0.6666666666666666,\n",
       "               0.6666666666666666,\n",
       "               0.6666666666666666,\n",
       "               0.6666666666666666],\n",
       "              'f1_score': [0.5,\n",
       "               0.5,\n",
       "               0.5,\n",
       "               0.5,\n",
       "               0.5,\n",
       "               0.5,\n",
       "               0.5,\n",
       "               0.5,\n",
       "               0.5,\n",
       "               0.5,\n",
       "               0.5,\n",
       "               0.5,\n",
       "               0.5,\n",
       "               0.5,\n",
       "               0.5,\n",
       "               0.5,\n",
       "               0.5,\n",
       "               0.5,\n",
       "               0.5,\n",
       "               0.5]},\n",
       "             'deep_lstm': {'accuracy': [0.75,\n",
       "               0.85,\n",
       "               0.75,\n",
       "               0.8,\n",
       "               0.7,\n",
       "               0.75,\n",
       "               0.7,\n",
       "               0.9,\n",
       "               0.9,\n",
       "               0.9,\n",
       "               0.9,\n",
       "               0.9,\n",
       "               0.9,\n",
       "               0.9,\n",
       "               0.9,\n",
       "               0.9,\n",
       "               0.9,\n",
       "               0.9,\n",
       "               0.9,\n",
       "               0.9],\n",
       "              'recall': [0.0,\n",
       "               0.4,\n",
       "               0.0,\n",
       "               0.4,\n",
       "               0.2,\n",
       "               0.2,\n",
       "               0.0,\n",
       "               0.6,\n",
       "               0.6,\n",
       "               0.6,\n",
       "               0.6,\n",
       "               0.6,\n",
       "               0.6,\n",
       "               0.6,\n",
       "               0.6,\n",
       "               0.6,\n",
       "               0.6,\n",
       "               0.6,\n",
       "               0.6,\n",
       "               0.6],\n",
       "              'precision': [0.0,\n",
       "               1.0,\n",
       "               0.0,\n",
       "               0.6666666666666666,\n",
       "               0.3333333333333333,\n",
       "               0.5,\n",
       "               0.0,\n",
       "               1.0,\n",
       "               1.0,\n",
       "               1.0,\n",
       "               1.0,\n",
       "               1.0,\n",
       "               1.0,\n",
       "               1.0,\n",
       "               1.0,\n",
       "               1.0,\n",
       "               1.0,\n",
       "               1.0,\n",
       "               1.0,\n",
       "               1.0],\n",
       "              'f1_score': [0.0,\n",
       "               0.5714285714285715,\n",
       "               0.0,\n",
       "               0.5,\n",
       "               0.25,\n",
       "               0.28571428571428575,\n",
       "               0.0,\n",
       "               0.7499999999999999,\n",
       "               0.7499999999999999,\n",
       "               0.7499999999999999,\n",
       "               0.7499999999999999,\n",
       "               0.7499999999999999,\n",
       "               0.7499999999999999,\n",
       "               0.7499999999999999,\n",
       "               0.7499999999999999,\n",
       "               0.7499999999999999,\n",
       "               0.7499999999999999,\n",
       "               0.7499999999999999,\n",
       "               0.7499999999999999,\n",
       "               0.7499999999999999]}})"
      ]
     },
     "execution_count": 16,
     "metadata": {},
     "output_type": "execute_result"
    }
   ],
   "source": [
    "# Print out the final results/metrics for each of the model\n",
    "\n",
    "results"
   ]
  },
  {
   "cell_type": "code",
   "execution_count": null,
   "id": "bbd478a8",
   "metadata": {
    "id": "bbd478a8"
   },
   "outputs": [],
   "source": [
    "# Create backup of the results because of the long execution time\n",
    "\n",
    "results_backup = results"
   ]
  },
  {
   "cell_type": "code",
   "execution_count": null,
   "id": "e1f9f9e8",
   "metadata": {
    "id": "e1f9f9e8"
   },
   "outputs": [],
   "source": [
    "# Run Kruskal Wallis statistical test\n",
    "\n",
    "accuracies = []\n",
    "for i, model in enumerate(results.keys()):\n",
    "    model_accs = results[model]['accuracy']\n",
    "    accuracies.insert(i, model_accs)\n",
    "\n",
    "result_kruskal_acc = stats.kruskal(*accuracies)\n",
    "\n",
    "\n",
    "recalls = []\n",
    "for i, model in enumerate(results.keys()):\n",
    "    model_recs = results[model]['recall']\n",
    "    recalls.insert(i, model_recs)\n",
    "\n",
    "result_kruskal_rec = stats.kruskal(*recalls)\n",
    "\n",
    "\n",
    "precisions = []\n",
    "for i, model in enumerate(results.keys()):\n",
    "    model_precs = results[model]['precision']\n",
    "    precisions.insert(i, model_precs)\n",
    "\n",
    "result_kruskal_prec = stats.kruskal(*precisions)\n",
    "\n",
    "\n",
    "f1_scores = []\n",
    "for i, model in enumerate(results.keys()):\n",
    "    model_f1s = results[model]['f1_score']\n",
    "    f1_scores.insert(i, model_f1s)\n",
    "\n",
    "result_kruskal_f1_s = stats.kruskal(*f1_scores)"
   ]
  },
  {
   "cell_type": "code",
   "execution_count": null,
   "id": "2694b261",
   "metadata": {
    "id": "2694b261",
    "outputId": "366ddd3c-4a64-4d3d-9e2b-6a01b2411ae2"
   },
   "outputs": [
    {
     "data": {
      "text/plain": [
       "KruskalResult(statistic=125.01448619615115, pvalue=1.4393732766173497e-24)"
      ]
     },
     "execution_count": 22,
     "metadata": {},
     "output_type": "execute_result"
    }
   ],
   "source": [
    "result_kruskal_acc"
   ]
  },
  {
   "cell_type": "code",
   "execution_count": null,
   "id": "f2c6f678",
   "metadata": {
    "id": "f2c6f678",
    "outputId": "cc31b637-a148-44bc-bafc-d20c681be106"
   },
   "outputs": [
    {
     "data": {
      "text/plain": [
       "KruskalResult(statistic=125.64727504064469, pvalue=1.0594503375613589e-24)"
      ]
     },
     "execution_count": 23,
     "metadata": {},
     "output_type": "execute_result"
    }
   ],
   "source": [
    "result_kruskal_rec"
   ]
  },
  {
   "cell_type": "code",
   "execution_count": null,
   "id": "ff9ee7e0",
   "metadata": {
    "id": "ff9ee7e0",
    "outputId": "d22ea743-aed6-45c8-a18e-ea8414d5a362"
   },
   "outputs": [
    {
     "data": {
      "text/plain": [
       "KruskalResult(statistic=117.83561825286448, pvalue=4.6400580823915384e-23)"
      ]
     },
     "execution_count": 24,
     "metadata": {},
     "output_type": "execute_result"
    }
   ],
   "source": [
    "result_kruskal_prec"
   ]
  },
  {
   "cell_type": "code",
   "execution_count": null,
   "id": "72fecae6",
   "metadata": {
    "id": "72fecae6",
    "outputId": "8e661c3f-c684-4a9d-b4b2-e32f84e90d88"
   },
   "outputs": [
    {
     "data": {
      "text/plain": [
       "KruskalResult(statistic=113.96063646239375, pvalue=3.015939170835012e-22)"
      ]
     },
     "execution_count": 25,
     "metadata": {},
     "output_type": "execute_result"
    }
   ],
   "source": [
    "result_kruskal_f1_s"
   ]
  },
  {
   "cell_type": "code",
   "execution_count": null,
   "id": "6ed80408",
   "metadata": {
    "id": "6ed80408"
   },
   "outputs": [],
   "source": [
    "# Run pairwise nemenyi statistical test for accuracies\n",
    "\n",
    "models = list(results.keys())\n",
    "accuracies = []\n",
    "nemenyi_accuracies = pd.DataFrame()\n",
    "\n",
    "\n",
    "for i in range(len(models)):\n",
    "    model_accs = results[models[i]]['accuracy']\n",
    "    accuracies.append(model_accs)\n",
    "\n",
    "np_accuracies = np.array(accuracies)\n",
    "nemenyi_accuracies = sp.posthoc_nemenyi_friedman(np_accuracies.T)\n",
    "        \n",
    "\n",
    "    \n",
    "# Run pairwise nemenyi statistical test for recalls\n",
    "        \n",
    "nemenyi_recalls = defaultdict(dict)\n",
    "recalls = []\n",
    "nemenyi_recalls = pd.DataFrame()\n",
    "\n",
    "for i in range(len(models)):\n",
    "    model_recs = results[models[i]]['recall']\n",
    "    recalls.append(model_recs)\n",
    "        \n",
    "np_recalls = np.array(recalls)\n",
    "nemenyi_recalls = sp.posthoc_nemenyi_friedman(np_recalls.T)\n",
    "\n",
    "\n",
    "\n",
    "# Run pairwise nemenyi statistical test for precisions\n",
    "       \n",
    "nemenyi_precisions = defaultdict(dict)\n",
    "precisions = []\n",
    "nemenyi_precisions = pd.DataFrame()\n",
    "\n",
    "for i in range(len(models)):\n",
    "    model_precs = results[models[i]]['precision']\n",
    "    precisions.append(model_precs)\n",
    "\n",
    "np_precisions = np.array(precisions)\n",
    "nemenyi_precisions = sp.posthoc_nemenyi_friedman(np_precisions.T)\n",
    "\n",
    "\n",
    "\n",
    "# Run pairwise nemenyi statistical test for f1-scores\n",
    "\n",
    "nemenyi_f1scores = defaultdict(dict)\n",
    "f1scores = []\n",
    "nemenyi_f1scores = pd.DataFrame()\n",
    "\n",
    "for i in range(len(models)):\n",
    "    model_f1s = results[models[i]]['f1_score']\n",
    "    f1scores.append(model_f1s)\n",
    "        \n",
    "np_f1scores = np.array(f1scores)\n",
    "nemenyi_f1scores = sp.posthoc_nemenyi_friedman(np_f1scores.T)"
   ]
  },
  {
   "cell_type": "code",
   "execution_count": null,
   "id": "e440ce77",
   "metadata": {
    "id": "e440ce77"
   },
   "outputs": [],
   "source": [
    "nemenyi_accuracies.to_csv('nemenyi_accuracies.csv')"
   ]
  },
  {
   "cell_type": "code",
   "execution_count": null,
   "id": "488606fe",
   "metadata": {
    "id": "488606fe"
   },
   "outputs": [],
   "source": [
    "nemenyi_recalls.to_csv('nemenyi_recalls.csv')"
   ]
  },
  {
   "cell_type": "code",
   "execution_count": null,
   "id": "f35ae1bf",
   "metadata": {
    "id": "f35ae1bf"
   },
   "outputs": [],
   "source": [
    "nemenyi_precisions.to_csv('nemenyi_precisions.csv')"
   ]
  },
  {
   "cell_type": "code",
   "execution_count": null,
   "id": "8f4265a3",
   "metadata": {
    "id": "8f4265a3"
   },
   "outputs": [],
   "source": [
    "nemenyi_f1scores.to_csv('nemenyi_f1scores.csv')"
   ]
  },
  {
   "cell_type": "code",
   "execution_count": null,
   "id": "9dc5a5b0",
   "metadata": {
    "id": "9dc5a5b0"
   },
   "outputs": [],
   "source": [
    "# Evaluate the mean and std for LSTM's 20-samples of accuracy, recall, precision and f1-score metrics\n",
    "\n",
    "deep_lstm_acc = pd.Series(results['deep_lstm']['accuracy'])"
   ]
  },
  {
   "cell_type": "code",
   "execution_count": null,
   "id": "9c860e22",
   "metadata": {
    "id": "9c860e22",
    "outputId": "19801145-b925-4d33-fbf4-d2684b198050"
   },
   "outputs": [
    {
     "data": {
      "text/plain": [
       "0.07608859102526823"
      ]
     },
     "execution_count": 92,
     "metadata": {},
     "output_type": "execute_result"
    }
   ],
   "source": [
    "deep_lstm_acc.std()"
   ]
  },
  {
   "cell_type": "code",
   "execution_count": null,
   "id": "d7d707c0",
   "metadata": {
    "id": "d7d707c0",
    "outputId": "ca22423d-fccf-43a4-dceb-561008a6eed7"
   },
   "outputs": [
    {
     "data": {
      "text/plain": [
       "0.85"
      ]
     },
     "execution_count": 104,
     "metadata": {},
     "output_type": "execute_result"
    }
   ],
   "source": [
    "deep_lstm_acc.mean()"
   ]
  },
  {
   "cell_type": "code",
   "execution_count": null,
   "id": "81e51f79",
   "metadata": {
    "id": "81e51f79"
   },
   "outputs": [],
   "source": [
    "deep_lstm_rec = pd.Series(results['deep_lstm']['recall'])"
   ]
  },
  {
   "cell_type": "code",
   "execution_count": null,
   "id": "166e9939",
   "metadata": {
    "id": "166e9939",
    "outputId": "9f3f3105-7c06-4fb8-db68-d4ab897218ee"
   },
   "outputs": [
    {
     "data": {
      "text/plain": [
       "0.23283154063783856"
      ]
     },
     "execution_count": 94,
     "metadata": {},
     "output_type": "execute_result"
    }
   ],
   "source": [
    "deep_lstm_rec.std()"
   ]
  },
  {
   "cell_type": "code",
   "execution_count": null,
   "id": "1f1799c7",
   "metadata": {
    "id": "1f1799c7",
    "outputId": "c7f8f911-2bae-40a8-d86f-c79f5b3d84a5"
   },
   "outputs": [
    {
     "data": {
      "text/plain": [
       "0.4499999999999999"
      ]
     },
     "execution_count": 105,
     "metadata": {},
     "output_type": "execute_result"
    }
   ],
   "source": [
    "deep_lstm_rec.mean()"
   ]
  },
  {
   "cell_type": "code",
   "execution_count": null,
   "id": "c2544c53",
   "metadata": {
    "id": "c2544c53"
   },
   "outputs": [],
   "source": [
    "deep_lstm_prec = pd.Series(results['deep_lstm']['precision'])"
   ]
  },
  {
   "cell_type": "code",
   "execution_count": null,
   "id": "cc8fc024",
   "metadata": {
    "id": "cc8fc024",
    "outputId": "67965fd2-aac6-4989-c0a3-28bec90b3609"
   },
   "outputs": [
    {
     "data": {
      "text/plain": [
       "0.3834096033964306"
      ]
     },
     "execution_count": 100,
     "metadata": {},
     "output_type": "execute_result"
    }
   ],
   "source": [
    "deep_lstm_prec.std()"
   ]
  },
  {
   "cell_type": "code",
   "execution_count": null,
   "id": "d8e30d05",
   "metadata": {
    "id": "d8e30d05",
    "outputId": "024fc55e-0374-4f6f-a3f7-a2cc788e4156"
   },
   "outputs": [
    {
     "data": {
      "text/plain": [
       "0.775"
      ]
     },
     "execution_count": 106,
     "metadata": {},
     "output_type": "execute_result"
    }
   ],
   "source": [
    "deep_lstm_prec.mean()"
   ]
  },
  {
   "cell_type": "code",
   "execution_count": null,
   "id": "3f55bb31",
   "metadata": {
    "id": "3f55bb31"
   },
   "outputs": [],
   "source": [
    "deep_lstm_f1s = pd.Series(results['deep_lstm']['f1_score'])"
   ]
  },
  {
   "cell_type": "code",
   "execution_count": null,
   "id": "09a486a8",
   "metadata": {
    "id": "09a486a8",
    "outputId": "046b285b-33af-4aad-b99e-4d3c93680175"
   },
   "outputs": [
    {
     "data": {
      "text/plain": [
       "0.2887293917392812"
      ]
     },
     "execution_count": 103,
     "metadata": {},
     "output_type": "execute_result"
    }
   ],
   "source": [
    "deep_lstm_f1s.std()"
   ]
  },
  {
   "cell_type": "code",
   "execution_count": null,
   "id": "ca4bd98c",
   "metadata": {
    "id": "ca4bd98c",
    "outputId": "19d3c72a-079c-4075-8bad-c345fcfc8e84"
   },
   "outputs": [
    {
     "data": {
      "text/plain": [
       "0.5678571428571428"
      ]
     },
     "execution_count": 107,
     "metadata": {},
     "output_type": "execute_result"
    }
   ],
   "source": [
    "deep_lstm_f1s.mean()"
   ]
  },
  {
   "cell_type": "code",
   "execution_count": null,
   "id": "db588caf",
   "metadata": {
    "colab": {
     "base_uri": "https://localhost:8080/"
    },
    "executionInfo": {
     "elapsed": 201,
     "status": "error",
     "timestamp": 1652784918222,
     "user": {
      "displayName": "Anastasis",
      "userId": "17738045797750005812"
     },
     "user_tz": -180
    },
    "id": "db588caf",
    "outputId": "ba7bb032-3d8a-400c-aceb-6093cc0f51ae"
   },
   "outputs": [
    {
     "ename": "NameError",
     "evalue": "ignored",
     "output_type": "error",
     "traceback": [
      "\u001b[0;31m---------------------------------------------------------------------------\u001b[0m",
      "\u001b[0;31mNameError\u001b[0m                                 Traceback (most recent call last)",
      "\u001b[0;32m<ipython-input-1-fccdb92dd75c>\u001b[0m in \u001b[0;36m<module>\u001b[0;34m()\u001b[0m\n\u001b[0;32m----> 1\u001b[0;31m \u001b[0mlen\u001b[0m\u001b[0;34m(\u001b[0m\u001b[0mdeep_lstm_f1s\u001b[0m\u001b[0;34m)\u001b[0m\u001b[0;34m\u001b[0m\u001b[0;34m\u001b[0m\u001b[0m\n\u001b[0m",
      "\u001b[0;31mNameError\u001b[0m: name 'deep_lstm_f1s' is not defined"
     ]
    }
   ],
   "source": [
    "len(deep_lstm_f1s)"
   ]
  },
  {
   "cell_type": "code",
   "execution_count": 1,
   "id": "9EmNNHK3qAQ6",
   "metadata": {
    "colab": {
     "base_uri": "https://localhost:8080/"
    },
    "executionInfo": {
     "elapsed": 14,
     "status": "ok",
     "timestamp": 1652804780636,
     "user": {
      "displayName": "Anastasis",
      "userId": "17738045797750005812"
     },
     "user_tz": -180
    },
    "id": "9EmNNHK3qAQ6",
    "outputId": "f8fc9659-9b0c-4d2c-c6f8-c2c8fce14bb3"
   },
   "outputs": [
    {
     "data": {
      "text/plain": [
       "True"
      ]
     },
     "execution_count": 1,
     "metadata": {},
     "output_type": "execute_result"
    }
   ],
   "source": [
    "3.015939170835012e-22<.01"
   ]
  },
  {
   "cell_type": "code",
   "execution_count": null,
   "id": "m7ihfiAd10gH",
   "metadata": {
    "id": "m7ihfiAd10gH"
   },
   "outputs": [],
   "source": []
  }
 ],
 "metadata": {
  "colab": {
   "name": "Final_models_walk_forward_validation.ipynb",
   "provenance": []
  },
  "kernelspec": {
   "display_name": "Python 3 (ipykernel)",
   "language": "python",
   "name": "python3"
  },
  "language_info": {
   "codemirror_mode": {
    "name": "ipython",
    "version": 3
   },
   "file_extension": ".py",
   "mimetype": "text/x-python",
   "name": "python",
   "nbconvert_exporter": "python",
   "pygments_lexer": "ipython3",
   "version": "3.7.10"
  }
 },
 "nbformat": 4,
 "nbformat_minor": 5
}
