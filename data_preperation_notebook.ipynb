{
 "cells": [
  {
   "cell_type": "code",
   "execution_count": null,
   "id": "d03a17c1-9b51-4a36-a5b2-3585a9a913ed",
   "metadata": {
    "id": "d03a17c1-9b51-4a36-a5b2-3585a9a913ed"
   },
   "outputs": [],
   "source": [
    "import pandas_datareader.data as web\n",
    "import talib\n",
    "import html5lib\n",
    "import yfinance as yf #yahoo\n",
    "import pandas as pd\n",
    "from pandas.tseries.holiday import USFederalHolidayCalendar\n",
    "import numpy as np\n",
    "import pandas\n",
    "import ta\n",
    "from datetime import datetime\n",
    "import matplotlib.pyplot as plt\n",
    "import seaborn as sns\n",
    "from copy import deepcopy\n",
    "import warnings\n",
    "warnings.filterwarnings('ignore')"
   ]
  },
  {
   "cell_type": "code",
   "execution_count": null,
   "id": "a1162cdf",
   "metadata": {
    "id": "a1162cdf"
   },
   "outputs": [],
   "source": [
    "#create indicators and add them to the DF\n",
    "def indicators(df,close,time=[3,5,10,20,60,90,120,252],returns=True):\n",
    "    #lowercase all column names\n",
    "    close = close.lower()\n",
    "    df.columns = df.columns.str.lower() \n",
    "    \n",
    "    #calculating returns\n",
    "    if returns==True:\n",
    "        #daily returns\n",
    "        df[\"ret_d\"] = df.loc[:,close].pct_change()\n",
    "        #log returns\n",
    "        #cummulative returns\n",
    "        df[\"ret_cum\"] = (1+df.loc[:,close].pct_change()).cumprod()-1\n",
    "    \n",
    "    #calculating indicators\n",
    "    for t in time:\n",
    "        df[f'sma_{t}'] = talib.SMA(df.loc[:,close], timeperiod=t)\n",
    "        df[f'wma_{t}'] = talib.WMA(df.loc[:,close], timeperiod=t)\n",
    "        df[f'trima_{t}'] = talib.TRIMA(df.loc[:,close], timeperiod=t)\n",
    "        df[f'ema_{t}'] = talib.EMA(df.loc[:,close], timeperiod=t)\n",
    "        df[f'dema_{t}'] = talib.DEMA(df.loc[:,close], timeperiod=t)\n",
    "        df[f'tema_{t}'] = talib.TEMA(df.loc[:,close], timeperiod=t)\n",
    "        df[f'kama_{t}'] = talib.KAMA(df.loc[:,close], timeperiod=t)\n",
    "\n",
    "    df.loc[:,'sar'] = talib.SAR(df.high,df.low,\n",
    "                                acceleration=.02,\n",
    "                                maximum=.2)\n",
    "    \n",
    "    df.loc[:,'adx'] = talib.ADX(df.high,df.low,df.loc[:,close],\n",
    "                                timeperiod=14)\n",
    "    \n",
    "    df['adxr'] = talib.ADXR(df.high,\n",
    "                        df.low,\n",
    "                        df.loc[:,close],\n",
    "                        timeperiod=14)\n",
    "    \n",
    "    df['rsi'] = talib.RSI(df.loc[:,close],\n",
    "                          timeperiod=14)\n",
    "                                     \n",
    "    slowk, slowd = talib.STOCH(df.high,df.low,df.loc[:,close],\n",
    "                           fastk_period=14,\n",
    "                           slowk_period=3,\n",
    "                           slowk_matype=0,\n",
    "                           slowd_period=3,\n",
    "                           slowd_matype=0)\n",
    "    df['stoch'] = slowd / slowk\n",
    "    \n",
    "    df['aroon_osc'] = talib.AROONOSC(high=df.high,low=df.low,\n",
    "                                     timeperiod=14)\n",
    "    \n",
    "    df['cci'] = talib.CCI(high=df.high,\n",
    "                          low=df.low,\n",
    "                          close=df.loc[:,close],\n",
    "                          timeperiod=14)\n",
    "\n",
    "    df['bop'] = talib.BOP(open=df.open,\n",
    "                      high=df.high,\n",
    "                      low=df.low,\n",
    "                      close=df.loc[:,close])\n",
    "    \n",
    "\n",
    "    df['cmo'] = talib.CMO(df.loc[:,close],\n",
    "                          timeperiod=14)\n",
    "\n",
    "    df['mfi'] = talib.MFI(df.high, \n",
    "                      df.low, \n",
    "                      df.loc[:,close], \n",
    "                      df.volume, \n",
    "                      timeperiod=14)\n",
    "  \n",
    "\n",
    "    df['adosc'] = talib.ADOSC(df.high,\n",
    "                          df.low,\n",
    "                          df.loc[:,close],\n",
    "                          df.volume,\n",
    "                          fastperiod=3,\n",
    "                          slowperiod=10)\n",
    "\n",
    "    df['obv'] = talib.OBV(df.loc[:,close],\n",
    "                      df.volume)\n",
    "    \n",
    "    df['atr'] = talib.ATR(df.high,\n",
    "                      df.low,\n",
    "                      df.loc[:,close],\n",
    "                      timeperiod=14)"
   ]
  },
  {
   "cell_type": "code",
   "execution_count": null,
   "id": "e4d670d5-3e79-4537-9da6-81f9ac74f8b1",
   "metadata": {
    "id": "e4d670d5-3e79-4537-9da6-81f9ac74f8b1",
    "outputId": "a0e43661-89f4-4fd4-c8da-8629627d433a"
   },
   "outputs": [
    {
     "name": "stdout",
     "output_type": "stream",
     "text": [
      "[*********************100%***********************]  1 of 1 completed\n",
      "[*********************100%***********************]  1 of 1 completed\n",
      "[*********************100%***********************]  1 of 1 completed\n",
      "[*********************100%***********************]  1 of 1 completed\n",
      "[*********************100%***********************]  1 of 1 completed\n"
     ]
    }
   ],
   "source": [
    "#download data from Yahoo Finance\n",
    "start_date = \"1980-01-01\"\n",
    "end_date = \"2021-12-31\"\n",
    "sp500 = yf.download(\"^gspc\",start=start_date)\n",
    "nasdaq = yf.download(\"^ixic\",start=start_date)\n",
    "vix = yf.download(\"^VIX\",start=start_date) #S&P500 volatility\n",
    "sp500_futures = yf.download(\"ES=F\",start=start_date)\n",
    "nasdaq_futures = yf.download(\"NQ=F\",start=start_date)"
   ]
  },
  {
   "cell_type": "code",
   "execution_count": null,
   "id": "52dd5bf4",
   "metadata": {
    "id": "52dd5bf4"
   },
   "outputs": [],
   "source": [
    "#display(sp500_futures)\n",
    "#display(nasdaq_futures)\n",
    "#display(vix)\n",
    "sp500.name = \"S&P 500\"\n",
    "nasdaq.name = \"NASDAQ\"\n",
    "sp500_futures.name = \"S&P 500 Futures\"\n",
    "nasdaq_futures.name = \"NASDAQ Futures\"\n",
    "vix.name = \"VIX\""
   ]
  },
  {
   "cell_type": "markdown",
   "id": "8b49bc5e-d71f-43ab-813d-7cd92ecf0e9f",
   "metadata": {
    "id": "8b49bc5e-d71f-43ab-813d-7cd92ecf0e9f"
   },
   "source": [
    "## Macroeconomic Indicators (FRED)"
   ]
  },
  {
   "cell_type": "code",
   "execution_count": null,
   "id": "a0be7fe0-c279-4863-9011-751d9b43abf6",
   "metadata": {
    "id": "a0be7fe0-c279-4863-9011-751d9b43abf6"
   },
   "outputs": [],
   "source": [
    "#import macro data from FRED\n",
    "int_rate_2_10 = pd.read_csv(\"./data/T10Y2Y.csv\",na_values='.', header=0, parse_dates=['date'], index_col='date', names=['date','int_rate_2_10'])\n",
    "int_rate_2 = pd.read_csv(\"./data/DGS2.csv\",na_values='.', header=0, parse_dates=['date'], index_col='date', names=['date','int_rate_2'])\n",
    "int_rate_10 = pd.read_csv(\"./data/DGS10.csv\",na_values='.', header=0, parse_dates=['date'], index_col='date', names=['date','int_rate_10'])\n",
    "m1 = pd.read_csv(\"./data/WM1NS.csv\", header=0, parse_dates=['date'], index_col='date', names=['date','m1'])\n",
    "m2 = pd.read_csv(\"./data/M2SL.csv\", header=0, parse_dates=['date'], index_col='date', names=['date','m2'])\n",
    "m3 = pd.read_csv(\"./data/MABMM301USM189S.csv\", header=0, parse_dates=['date'], index_col='date', names=['date','m3'])\n",
    "curr_circulation = pd.read_csv(\"./data/CURRCIR.csv\", header=0, parse_dates=['date'], index_col='date', names=['date','curr_circulation'])\n",
    "savings_total = pd.read_csv(\"./data/PSAVERT.csv\", header=0, parse_dates=['date'], index_col='date', names=['date','savings_total'])\n",
    "gdp = pd.read_csv(\"./data/GDP.csv\", header=0, parse_dates=['date'], index_col='date', names=['date','gdp'])\n",
    "debt_gdp = pd.read_csv(\"./data/GFDEGDQ188S.csv\", header=0, parse_dates=['date'], index_col='date', names=['date','debt_gdp'])\n",
    "cpi = pd.read_csv(\"./data/MEDCPIM158SFRBCLE.csv\", header=0, parse_dates=['date'], index_col='date', names=['date','cpi'])\n",
    "payrolls_nonfarm = pd.read_csv(\"./data/PAYEMS.csv\", header=0, parse_dates=['date'], index_col='date', names=['date','payrolls_nonfarm'])\n",
    "unemp_rate = pd.read_csv(\"./data/UNRATE.csv\", header=0, parse_dates=['date'], index_col='date', names=['date','unemp_rate'])\n",
    "indust_prod = pd.read_csv(\"./data/INDPRO.csv\", header=0, parse_dates=['date'], index_col='date', names=['date','indust_prod'])\n",
    "hous_starts = pd.read_csv(\"./data/HOUST.csv\", header=0, parse_dates=['date'], index_col='date', names=['date','hous_starts'])\n",
    "hous_permits = pd.read_csv(\"./data/PERMIT.csv\", header=0, parse_dates=['date'], index_col='date', names=['date','hous_permits'], engine='python')"
   ]
  },
  {
   "cell_type": "code",
   "execution_count": null,
   "id": "4038f46b",
   "metadata": {
    "id": "4038f46b",
    "outputId": "c034a3a8-a6f1-4369-d943-777c28f598df"
   },
   "outputs": [
    {
     "data": {
      "text/plain": [
       "(int_rate_2    0.042004\n",
       " dtype: float64,\n",
       " int_rate_10    0.042641\n",
       " dtype: float64)"
      ]
     },
     "execution_count": 9,
     "metadata": {},
     "output_type": "execute_result"
    }
   ],
   "source": [
    "int_rate_2.isnull().sum()/int_rate_2.shape[0], int_rate_10.isnull().sum()/int_rate_10.shape[0]"
   ]
  },
  {
   "cell_type": "code",
   "execution_count": null,
   "id": "0781b9c9",
   "metadata": {
    "id": "0781b9c9",
    "outputId": "3c183088-0c64-4bf8-db2d-c9979b7b2760"
   },
   "outputs": [
    {
     "name": "stdout",
     "output_type": "stream",
     "text": [
      " 0.17    81\n",
      " 0.16    79\n",
      " 1.04    77\n",
      " 0.18    76\n",
      " 1.05    72\n",
      "         ..\n",
      "-1.22     1\n",
      "-1.96     1\n",
      "-1.95     1\n",
      "-2.04     1\n",
      " 2.91     1\n",
      "Name: int_rate_2_10, Length: 474, dtype: int64\n",
      "\n",
      "Nulls: 4.20%\n"
     ]
    }
   ],
   "source": [
    "# clean interest rate\n",
    "#int_rate_2_10.int_rate_2_10.replace(to_replace='.',value=np.nan,inplace=True)\n",
    "# change to correct datatype\n",
    "#int_rate_2_10.int_rate_2_10 = pd.to_numeric(int_rate_2_10.int_rate_2_10, errors='coerce')\n",
    "print(int_rate_2_10.int_rate_2_10.value_counts())\n",
    "print(f'\\nNulls: {int_rate_2_10.int_rate_2_10.isnull().sum()/int_rate_2_10.shape[0]*100:.2f}%')"
   ]
  },
  {
   "cell_type": "code",
   "execution_count": null,
   "id": "71486dd5",
   "metadata": {
    "id": "71486dd5"
   },
   "outputs": [],
   "source": [
    "# create a list of all indicators\n",
    "macros_lst = [int_rate_2_10,m1,m2,m3,curr_circulation,savings_total,\n",
    "              gdp,debt_gdp,cpi,payrolls_nonfarm,unemp_rate,indust_prod,\n",
    "              hous_starts,hous_permits]"
   ]
  },
  {
   "cell_type": "code",
   "execution_count": null,
   "id": "d981f1be",
   "metadata": {
    "id": "d981f1be",
    "outputId": "2c1b88e2-9b1d-4a27-d63f-aab8467cb90d",
    "scrolled": true
   },
   "outputs": [
    {
     "name": "stdout",
     "output_type": "stream",
     "text": [
      "\n",
      "int_rate_2_10    True\n",
      "dtype: bool\n",
      "1976-06-01 00:00:00\n",
      "1 days 00:00:00\n",
      "\n",
      "\n",
      "m1    False\n",
      "dtype: bool\n",
      "1975-01-06 00:00:00\n",
      "7 days 00:00:00\n",
      "\n",
      "\n",
      "m2    False\n",
      "dtype: bool\n",
      "1959-01-01 00:00:00\n",
      "31 days 00:00:00\n",
      "\n",
      "\n",
      "m3    False\n",
      "dtype: bool\n",
      "1960-01-01 00:00:00\n",
      "31 days 00:00:00\n",
      "\n",
      "\n",
      "curr_circulation    False\n",
      "dtype: bool\n",
      "1917-08-01 00:00:00\n",
      "31 days 00:00:00\n",
      "\n",
      "\n",
      "savings_total    False\n",
      "dtype: bool\n",
      "1959-01-01 00:00:00\n",
      "31 days 00:00:00\n",
      "\n",
      "\n",
      "gdp    False\n",
      "dtype: bool\n",
      "1947-01-01 00:00:00\n",
      "90 days 00:00:00\n",
      "\n",
      "\n",
      "debt_gdp    False\n",
      "dtype: bool\n",
      "1966-01-01 00:00:00\n",
      "90 days 00:00:00\n",
      "\n",
      "\n",
      "cpi    False\n",
      "dtype: bool\n",
      "1983-01-01 00:00:00\n",
      "31 days 00:00:00\n",
      "\n",
      "\n",
      "payrolls_nonfarm    False\n",
      "dtype: bool\n",
      "1939-01-01 00:00:00\n",
      "31 days 00:00:00\n",
      "\n",
      "\n",
      "unemp_rate    False\n",
      "dtype: bool\n",
      "1948-01-01 00:00:00\n",
      "31 days 00:00:00\n",
      "\n",
      "\n",
      "indust_prod    False\n",
      "dtype: bool\n",
      "1919-01-01 00:00:00\n",
      "31 days 00:00:00\n",
      "\n",
      "\n",
      "hous_starts    False\n",
      "dtype: bool\n",
      "1959-01-01 00:00:00\n",
      "31 days 00:00:00\n",
      "\n",
      "\n",
      "hous_permits    False\n",
      "dtype: bool\n",
      "1960-01-01 00:00:00\n",
      "31 days 00:00:00\n",
      "\n"
     ]
    }
   ],
   "source": [
    "# print the nulls, starting date, time frequency of each indicator\n",
    "for df in macros_lst:\n",
    "    print(f'''\n",
    "{df.isnull().any()}\n",
    "{df.index[0]}\n",
    "{df.index[1] - df.index[0]}\n",
    "''')"
   ]
  },
  {
   "cell_type": "code",
   "execution_count": null,
   "id": "de335789",
   "metadata": {
    "id": "de335789",
    "outputId": "6e46a330-1908-4a3d-aa38-7d79501dac96"
   },
   "outputs": [
    {
     "name": "stdout",
     "output_type": "stream",
     "text": [
      "<class 'pandas.core.frame.DataFrame'>\n",
      "DatetimeIndex: 5472 entries, 2000-09-18 to 2022-05-12\n",
      "Data columns (total 14 columns):\n",
      " #   Column            Non-Null Count  Dtype  \n",
      "---  ------            --------------  -----  \n",
      " 0   int_rate_2_10     5472 non-null   float64\n",
      " 1   m1                5472 non-null   float64\n",
      " 2   m2                5472 non-null   float64\n",
      " 3   m3                5472 non-null   float64\n",
      " 4   curr_circulation  5472 non-null   float64\n",
      " 5   savings_total     5472 non-null   float64\n",
      " 6   gdp               5472 non-null   float64\n",
      " 7   debt_gdp          5472 non-null   float64\n",
      " 8   cpi               5472 non-null   float64\n",
      " 9   payrolls_nonfarm  5472 non-null   int64  \n",
      " 10  unemp_rate        5472 non-null   float64\n",
      " 11  indust_prod       5472 non-null   float64\n",
      " 12  hous_starts       5472 non-null   float64\n",
      " 13  hous_permits      5472 non-null   float64\n",
      "dtypes: float64(13), int64(1)\n",
      "memory usage: 641.2 KB\n"
     ]
    }
   ],
   "source": [
    "# create a dataframe with an index like S&P500 Futures (target)\n",
    "daily_df = []\n",
    "# fill NaN using the previous valid value\n",
    "[daily_df.append(df.reindex(sp500_futures.index,method='ffill')) for df in macros_lst]\n",
    "macro_df = pd.concat(daily_df,axis=1)\n",
    "# fill remaining NaN\n",
    "[col.fillna(method='bfill',inplace=True) for col_name,col in macro_df.iteritems()]\n",
    "macro_df.info()"
   ]
  },
  {
   "cell_type": "markdown",
   "id": "80ab911d",
   "metadata": {
    "id": "80ab911d"
   },
   "source": [
    "# Merging DFs"
   ]
  },
  {
   "cell_type": "code",
   "execution_count": null,
   "id": "14d77ecd",
   "metadata": {
    "id": "14d77ecd",
    "outputId": "b81ab0f1-25c4-4643-c0fb-4fbd6d6778e8"
   },
   "outputs": [
    {
     "data": {
      "text/plain": [
       "[None, None, None, None, None]"
      ]
     },
     "execution_count": 14,
     "metadata": {},
     "output_type": "execute_result"
    }
   ],
   "source": [
    "# create returns and indicators\n",
    "[indicators(dfs,close='Adj Close', returns=False) for dfs in [nasdaq_futures,sp500_futures,vix]]\n",
    "# add preffix to DF column names\n",
    "df_list = [sp500_futures,nasdaq_futures,sp500,nasdaq,vix]\n",
    "prefix = ['spf','nasf','sp','nas','vix']\n",
    "for pref, df in zip(prefix, df_list):\n",
    "    df.columns = [pref+'_'+col for col in df.columns]\n",
    "#fill NaNs with the nearest value\n",
    "[df.interpolate(method='bfill',inplace=True) for df in [sp500_futures,nasdaq_futures,sp500,nasdaq,vix]]\n",
    "# check for NaN in DFs\n",
    "[pd.isna(df).any().any() for df in df_list]"
   ]
  },
  {
   "cell_type": "code",
   "execution_count": null,
   "id": "fd852fc7",
   "metadata": {
    "id": "fd852fc7",
    "outputId": "fef38567-744f-4f97-fb03-55f41fcc3c1b"
   },
   "outputs": [
    {
     "data": {
      "text/plain": [
       "True"
      ]
     },
     "execution_count": 226,
     "metadata": {},
     "output_type": "execute_result"
    }
   ],
   "source": [
    "#merge dfs and save to csv\n",
    "final = pd.concat([sp500_futures,nasdaq_futures,sp500,nasdaq,vix,macro_df],axis=1)\n",
    "final.drop(labels=['2016-10-10','2016-11-11'],inplace=True)\n",
    "#final.fillna(method='pad',inplace=True)\n",
    "final = final.loc[:,'2000-09-18']\n",
    "# check that the indexes match\n",
    "final.index.equals(sp500_futures.index)"
   ]
  },
  {
   "cell_type": "code",
   "execution_count": null,
   "id": "c35a33ff",
   "metadata": {
    "id": "c35a33ff",
    "outputId": "03a00723-0305-4527-c558-ed2fb5a066c0"
   },
   "outputs": [
    {
     "data": {
      "text/plain": [
       "False"
      ]
     },
     "execution_count": 183,
     "metadata": {},
     "output_type": "execute_result"
    }
   ],
   "source": [
    "#final.dropna(inplace=True)\n",
    "final.isna().any().any()"
   ]
  },
  {
   "cell_type": "code",
   "execution_count": null,
   "id": "6002574d",
   "metadata": {
    "id": "6002574d",
    "outputId": "2ad8dd14-c347-4fdb-c44c-f21f165cbced"
   },
   "outputs": [
    {
     "data": {
      "text/plain": [
       "1.6883144450022947"
      ]
     },
     "execution_count": 203,
     "metadata": {},
     "output_type": "execute_result"
    }
   ],
   "source": [
    "# add returns column\n",
    "final.loc[:,'spf_ret'] = final.loc[:,'spf_adj close'].pct_change().fillna(method='bfill')\n",
    "(1+final['spf_ret']).prod()-1"
   ]
  },
  {
   "cell_type": "raw",
   "id": "26d6b75d",
   "metadata": {
    "id": "26d6b75d"
   },
   "source": [
    "day = datetime.today()\n",
    "final.to_csv(f'final_{day.day}_{day.month}_{day.year}.csv')"
   ]
  },
  {
   "cell_type": "code",
   "execution_count": null,
   "id": "54ec31aa",
   "metadata": {
    "id": "54ec31aa",
    "outputId": "c62bbfb5-e424-4dbc-feb1-45253b04e605"
   },
   "outputs": [
    {
     "data": {
      "text/plain": [
       "count    5472.000000\n",
       "mean        0.000258\n",
       "std         0.012444\n",
       "min        -0.103765\n",
       "25%        -0.004477\n",
       "50%         0.000720\n",
       "75%         0.005731\n",
       "max         0.141134\n",
       "Name: spf_ret, dtype: float64"
      ]
     },
     "execution_count": 230,
     "metadata": {},
     "output_type": "execute_result"
    }
   ],
   "source": [
    "# basic descriptives of SP500 futures returns\n",
    "final.loc[:,'spf_ret'].describe()"
   ]
  },
  {
   "cell_type": "code",
   "execution_count": null,
   "id": "b4bc2cf2",
   "metadata": {
    "id": "b4bc2cf2",
    "outputId": "fea3169c-02b7-4c26-fd08-91d1f5230280"
   },
   "outputs": [
    {
     "data": {
      "text/plain": [
       "-0.01925306382745108"
      ]
     },
     "execution_count": 246,
     "metadata": {},
     "output_type": "execute_result"
    }
   ],
   "source": [
    "#create target variable \n",
    "target = final.loc[:,'spf_ret'].quantile(q=.05)\n",
    "target"
   ]
  },
  {
   "cell_type": "code",
   "execution_count": null,
   "id": "c4708c76",
   "metadata": {
    "id": "c4708c76"
   },
   "outputs": [],
   "source": [
    "final.loc[:,'target'] = final.loc[:,'spf_ret'].apply(lambda x: 0 if x > target else 1)\n",
    "final.to_csv(f'final_{day.day}_{day.month}_{day.year}.csv')\n",
    "# check the size of the target length\n",
    "assert round(final.loc[:,'target'].sum()/final.shape[0],2)==.05"
   ]
  },
  {
   "cell_type": "markdown",
   "id": "0dfd6cf8",
   "metadata": {
    "id": "0dfd6cf8"
   },
   "source": [
    "# Save DF"
   ]
  },
  {
   "cell_type": "code",
   "execution_count": null,
   "id": "851b3942",
   "metadata": {},
   "outputs": [],
   "source": [
    "day = datetime.today()\n",
    "final.to_csv(f'final_{day.day}_{day.month}_{day.year}.csv')"
   ]
  }
 ],
 "metadata": {
  "colab": {
   "name": "latest_data_notebook.ipynb",
   "provenance": []
  },
  "kernelspec": {
   "display_name": "Python 3 (ipykernel)",
   "language": "python",
   "name": "python3"
  },
  "language_info": {
   "codemirror_mode": {
    "name": "ipython",
    "version": 3
   },
   "file_extension": ".py",
   "mimetype": "text/x-python",
   "name": "python",
   "nbconvert_exporter": "python",
   "pygments_lexer": "ipython3",
   "version": "3.7.10"
  }
 },
 "nbformat": 4,
 "nbformat_minor": 5
}
